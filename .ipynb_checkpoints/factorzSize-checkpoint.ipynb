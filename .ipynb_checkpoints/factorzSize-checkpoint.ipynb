{
 "cells": [
  {
   "cell_type": "code",
   "execution_count": 90,
   "metadata": {},
   "outputs": [],
   "source": [
    "import yfinance as yf\n",
    "import numpy as np\n",
    "from pandas_datareader import data as pdr"
   ]
  },
  {
   "cell_type": "code",
   "execution_count": 198,
   "metadata": {},
   "outputs": [],
   "source": [
    "stocklist1 = ['ACA.PA',\n",
    "'ATO.PA',\n",
    "'RMS.PA',\n",
    "'SAF.PA',\n",
    "'FP.PA',\n",
    "'AC.PA',\n",
    "'SAN.PA',\n",
    "'CS.PA',\n",
    "'BN.PA',\n",
    "'RI.PA',\n",
    "'MC.PA',\n",
    "'HO.PA',\n",
    "'KER.PA',\n",
    "'EL.PA',\n",
    "'SU.PA',\n",
    "'VIE.PA',\n",
    "'SGO.PA',\n",
    "'PUB.PA']\n",
    "\n",
    "stocklist2 = ['GLE.PA',\n",
    "'BNP.PA',\n",
    "'RNO.PA',\n",
    "'LR.PA',\n",
    "'WLN.PA',\n",
    "'URW.AS',\n",
    "'STM.PA']\n",
    "\n",
    "stocklist = stocklist1 + stocklist2"
   ]
  },
  {
   "cell_type": "code",
   "execution_count": 121,
   "metadata": {},
   "outputs": [],
   "source": []
  },
  {
   "cell_type": "code",
   "execution_count": null,
   "metadata": {},
   "outputs": [],
   "source": []
  },
  {
   "cell_type": "code",
   "execution_count": 242,
   "metadata": {},
   "outputs": [
    {
     "name": "stdout",
     "output_type": "stream",
     "text": [
      "[*********************100%***********************]  25 of 25 completed\n"
     ]
    }
   ],
   "source": [
    "data = yf.download(stocklist, start=\"2020-08-31\", end=\"2020-09-01\",\n",
    "                   group_by=\"ticker\")"
   ]
  },
  {
   "cell_type": "code",
   "execution_count": null,
   "metadata": {},
   "outputs": [],
   "source": []
  },
  {
   "cell_type": "code",
   "execution_count": 241,
   "metadata": {},
   "outputs": [
    {
     "name": "stdout",
     "output_type": "stream",
     "text": [
      "25\n"
     ]
    }
   ],
   "source": [
    "Close = []\n",
    "for sct in data.columns.levels[0].values:\n",
    "    \n",
    "\n",
    "    Close.append((sct ,data[sct]['Close']))\n",
    "    \n",
    "\n",
    "CloseRanger = sorted(Close)\n",
    "print(len(CloseRanger))"
   ]
  },
  {
   "cell_type": "code",
   "execution_count": null,
   "metadata": {},
   "outputs": [],
   "source": [
    "\n",
    "\n",
    "    \n",
    "        "
   ]
  },
  {
   "cell_type": "code",
   "execution_count": null,
   "metadata": {},
   "outputs": [],
   "source": []
  },
  {
   "cell_type": "code",
   "execution_count": 207,
   "metadata": {},
   "outputs": [
    {
     "name": "stdout",
     "output_type": "stream",
     "text": [
      "ACA.PA\n",
      "ATO.PA\n",
      "RMS.PA\n",
      "SAF.PA\n",
      "FP.PA\n",
      "AC.PA\n",
      "SAN.PA\n",
      "CS.PA\n",
      "BN.PA\n",
      "RI.PA\n",
      "MC.PA\n",
      "HO.PA\n",
      "KER.PA\n",
      "EL.PA\n",
      "SU.PA\n",
      "VIE.PA\n",
      "SGO.PA\n",
      "PUB.PA\n",
      "GLE.PA\n",
      "BNP.PA\n",
      "RNO.PA\n",
      "LR.PA\n",
      "WLN.PA\n",
      "URW.AS\n",
      "STM.PA\n",
      "25\n"
     ]
    }
   ],
   "source": [
    "shares = []\n",
    "for sct in stocklist:\n",
    "    tickers = sct\n",
    "    Cpy = yf.Ticker(tickers)\n",
    "    shares.append((sct,Cpy.info['sharesOutstanding']))\n",
    "    \n",
    "SharesRanger = sorted(shares)\n",
    "\n"
   ]
  },
  {
   "cell_type": "code",
   "execution_count": 216,
   "metadata": {},
   "outputs": [
    {
     "name": "stdout",
     "output_type": "stream",
     "text": [
      "25\n",
      "25\n",
      "[('AC.PA', 234362000), ('ACA.PA', 2882309888), ('ATO.PA', 109913000), ('BN.PA', 649780992), ('BNP.PA', 1247730048), ('CS.PA', 2383529984), ('EL.PA', 435252992), ('FP.PA', 2628709888), ('GLE.PA', 844584000), ('HO.PA', 212631008), ('KER.PA', 125015000), ('LR.PA', 267330000), ('MC.PA', 503359008), ('PUB.PA', 238396992), ('RI.PA', 260675008), ('RMS.PA', 104598000), ('RNO.PA', 290360000), ('SAF.PA', 426872000), ('SAN.PA', 1256339968), ('SGO.PA', 541600000), ('STM.PA', 892596992), ('SU.PA', 535372000), ('URW.AS', 138472000), ('VIE.PA', 554427008), ('WLN.PA', 183040992)]\n",
      "[('AC.PA', Date\n",
      "2020-08-31    25.74\n",
      "Name: Close, dtype: float64), ('ACA.PA', Date\n",
      "2020-08-31    8.588\n",
      "Name: Close, dtype: float64), ('ATO.PA', Date\n",
      "2020-08-31    72.5\n",
      "Name: Close, dtype: float64), ('BN.PA', Date\n",
      "2020-08-31    55.099998\n",
      "Name: Close, dtype: float64), ('BNP.PA', Date\n",
      "2020-08-31    36.564999\n",
      "Name: Close, dtype: float64), ('CS.PA', Date\n",
      "2020-08-31    17.076\n",
      "Name: Close, dtype: float64), ('EL.PA', Date\n",
      "2020-08-31    112.099998\n",
      "Name: Close, dtype: float64), ('FP.PA', Date\n",
      "2020-08-31    33.099998\n",
      "Name: Close, dtype: float64), ('GLE.PA', Date\n",
      "2020-08-31    13.582\n",
      "Name: Close, dtype: float64), ('HO.PA', Date\n",
      "2020-08-31    65.5\n",
      "Name: Close, dtype: float64), ('KER.PA', Date\n",
      "2020-08-31    514.599976\n",
      "Name: Close, dtype: float64), ('LR.PA', Date\n",
      "2020-08-31    69.900002\n",
      "Name: Close, dtype: float64), ('MC.PA', Date\n",
      "2020-08-31    392.799988\n",
      "Name: Close, dtype: float64), ('PUB.PA', Date\n",
      "2020-08-31    29.370001\n",
      "Name: Close, dtype: float64), ('RI.PA', Date\n",
      "2020-08-31    143.5\n",
      "Name: Close, dtype: float64), ('RMS.PA', Date\n",
      "2020-08-31    719.400024\n",
      "Name: Close, dtype: float64), ('RNO.PA', Date\n",
      "2020-08-31    23.84\n",
      "Name: Close, dtype: float64), ('SAF.PA', Date\n",
      "2020-08-31    97.019997\n",
      "Name: Close, dtype: float64), ('SAN.PA', Date\n",
      "2020-08-31    84.870003\n",
      "Name: Close, dtype: float64), ('SGO.PA', Date\n",
      "2020-08-31    33.98\n",
      "Name: Close, dtype: float64), ('STM.PA', Date\n",
      "2020-08-31    25.209999\n",
      "Name: Close, dtype: float64), ('SU.PA', Date\n",
      "2020-08-31    103.75\n",
      "Name: Close, dtype: float64), ('URW.AS', Date\n",
      "2020-08-31    39.16\n",
      "Name: Close, dtype: float64), ('VIE.PA', Date\n",
      "2020-08-31    20.200001\n",
      "Name: Close, dtype: float64), ('WLN.PA', Date\n",
      "2020-08-31    77.019997\n",
      "Name: Close, dtype: float64)]\n"
     ]
    }
   ],
   "source": [
    "sharesRanger = sorted(shares)"
   ]
  },
  {
   "cell_type": "code",
   "execution_count": 240,
   "metadata": {},
   "outputs": [
    {
     "data": {
      "text/plain": [
       "[('MC.PA', Date\n",
       "  2020-08-31    1.977194e+11\n",
       "  Name: Close, dtype: float64), ('SAN.PA', Date\n",
       "  2020-08-31    1.066256e+11\n",
       "  Name: Close, dtype: float64), ('FP.PA', Date\n",
       "  2020-08-31    8.701029e+10\n",
       "  Name: Close, dtype: float64), ('RMS.PA', Date\n",
       "  2020-08-31    7.524780e+10\n",
       "  Name: Close, dtype: float64), ('KER.PA', Date\n",
       "  2020-08-31    6.433272e+10\n",
       "  Name: Close, dtype: float64), ('SU.PA', Date\n",
       "  2020-08-31    5.554484e+10\n",
       "  Name: Close, dtype: float64), ('EL.PA', Date\n",
       "  2020-08-31    4.879186e+10\n",
       "  Name: Close, dtype: float64), ('BNP.PA', Date\n",
       "  2020-08-31    4.562325e+10\n",
       "  Name: Close, dtype: float64), ('SAF.PA', Date\n",
       "  2020-08-31    4.141512e+10\n",
       "  Name: Close, dtype: float64), ('CS.PA', Date\n",
       "  2020-08-31    4.070116e+10\n",
       "  Name: Close, dtype: float64)]"
      ]
     },
     "execution_count": 240,
     "metadata": {},
     "output_type": "execute_result"
    }
   ],
   "source": [
    "marketCap = []\n",
    "for cl in CloseRanger:\n",
    "    for sh in sharesRanger:\n",
    "        if cl[0] == sh[0]:\n",
    "            marketCap.append((cl[0] ,cl[1]*sh[1]))\n",
    "sorted(marketCap, key = lambda x: float(x[1]), reverse = True)[:10]"
   ]
  },
  {
   "cell_type": "code",
   "execution_count": null,
   "metadata": {},
   "outputs": [],
   "source": []
  },
  {
   "cell_type": "code",
   "execution_count": null,
   "metadata": {},
   "outputs": [],
   "source": []
  }
 ],
 "metadata": {
  "kernelspec": {
   "display_name": "Python 3",
   "language": "python",
   "name": "python3"
  },
  "language_info": {
   "codemirror_mode": {
    "name": "ipython",
    "version": 3
   },
   "file_extension": ".py",
   "mimetype": "text/x-python",
   "name": "python",
   "nbconvert_exporter": "python",
   "pygments_lexer": "ipython3",
   "version": "3.7.3"
  }
 },
 "nbformat": 4,
 "nbformat_minor": 2
}
